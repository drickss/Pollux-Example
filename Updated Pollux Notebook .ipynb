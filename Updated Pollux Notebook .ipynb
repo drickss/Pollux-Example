{
 "cells": [
  {
   "cell_type": "code",
   "execution_count": null,
   "id": "b7903c3a-84d4-41f3-823b-0fd9aa18007e",
   "metadata": {},
   "outputs": [],
   "source": [
    "#Stellar Data and Machine Learning Example\n",
    "This notebook is used to show the applications of Pollux to APOGEE data (cut and selection of stars)"
   ]
  },
  {
   "cell_type": "code",
   "execution_count": null,
   "id": "95057778-883a-44d1-99ba-56ea20506a67",
   "metadata": {},
   "outputs": [],
   "source": [
    "#Import Libraires\n",
    "import astropy.table as Table\n",
    "import matplotlib as plt\n",
    "import numpy as np"
   ]
  },
  {
   "cell_type": "code",
   "execution_count": null,
   "id": "a7833b2f-a402-4907-b9e4-3ee26710ba21",
   "metadata": {},
   "outputs": [],
   "source": [
    "#Import Data Files of Spectrum and Catalog Table\n",
    "data_table = Table.read(\"/Users/dricks/daijas_project/140313003601012_allstar_fit_spectrum.fits\")\n",
    "catalog_table = Table.read(\"/Users/dricks/daijas_project/allStar-dr17-synspec_rev1.fits\")\n",
    "cleaned_table = Table()"
   ]
  },
  {
   "cell_type": "code",
   "execution_count": null,
   "id": "13d6fc35-8f2a-4d00-b60c-d7da33d49d3a",
   "metadata": {},
   "outputs": [],
   "source": [
    "#Declare columns we want to pay attention to \n",
    "labels_cols = [\"TEFF\", \"LOGG\", \"FE_H\", \"SNR\"]\n",
    "error_cols = [\"TEFF_ERR\", \"LOGG_ERR\", \"FE_H_ERR\",\"SNR\"] #SNR is mentioned twice because there isn't a SNR error catalog in APOGEE"
   ]
  },
  {
   "cell_type": "code",
   "execution_count": null,
   "id": "9105c031-a692-4292-9b60-a1c29b5a273e",
   "metadata": {},
   "outputs": [],
   "source": [
    "#Give name when recalling APOGEE columns and combining \n",
    "if len(matched_row) == 0:\n",
    "    print(f\"Star with APOGEE_ID {apogee_id} not found in catalog.\")\n",
    "else:\n",
    "    row = matched_row[0]\n",
    "    print(f\"Star with APOGEE_ID {apogee_id} found in catalog.\")\n",
    "\n",
    "    flux = np.array(data_table[\"sob\"])\n",
    "    good_flux = flux[flux != 0]\n",
    "    flux_median = np.median(good_flux) if len(good_flux) > 0 else 1.0\n",
    "    flux[flux == 0] = flux_median\n",
    "    data_table[\"sob\"] = flux\n",
    "    \n",
    "#Checking for values\n",
    "    for label, err in zip(label_cols, error_cols):\n",
    "        if label not in catalog_table.colnames:\n",
    "            cleaned_table[label] = np.full(len(cleaned_table), np.nan)\n",
    "        if err not in catalog_table.colnames:\n",
    "            cleaned_table[err] = np.full(len(cleaned_table), np.nan)\n",
    "        if np.isnan(catalog_table[label][0]) == False:\n",
    "            cleaned_table[label] = row[label]\n",
    "            cleaned_table[err] = row[err]"
   ]
  }
 ],
 "metadata": {
  "kernelspec": {
   "display_name": "Python 3 (ipykernel)",
   "language": "python",
   "name": "python3"
  },
  "language_info": {
   "codemirror_mode": {
    "name": "ipython",
    "version": 3
   },
   "file_extension": ".py",
   "mimetype": "text/x-python",
   "name": "python",
   "nbconvert_exporter": "python",
   "pygments_lexer": "ipython3",
   "version": "3.13.5"
  }
 },
 "nbformat": 4,
 "nbformat_minor": 5
}
